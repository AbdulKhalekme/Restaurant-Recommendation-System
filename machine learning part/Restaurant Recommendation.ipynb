{
 "cells": [
  {
   "cell_type": "code",
   "execution_count": 1,
   "metadata": {},
   "outputs": [],
   "source": [
    "import pandas as pd\n",
    "import numpy as np"
   ]
  },
  {
   "cell_type": "code",
   "execution_count": 2,
   "metadata": {},
   "outputs": [],
   "source": [
    "dataset = pd.read_csv(\"rating_final.csv\")"
   ]
  },
  {
   "cell_type": "code",
   "execution_count": 3,
   "metadata": {},
   "outputs": [
    {
     "data": {
      "text/html": [
       "<div>\n",
       "<style scoped>\n",
       "    .dataframe tbody tr th:only-of-type {\n",
       "        vertical-align: middle;\n",
       "    }\n",
       "\n",
       "    .dataframe tbody tr th {\n",
       "        vertical-align: top;\n",
       "    }\n",
       "\n",
       "    .dataframe thead th {\n",
       "        text-align: right;\n",
       "    }\n",
       "</style>\n",
       "<table border=\"1\" class=\"dataframe\">\n",
       "  <thead>\n",
       "    <tr style=\"text-align: right;\">\n",
       "      <th></th>\n",
       "      <th>userID</th>\n",
       "      <th>placeID</th>\n",
       "      <th>rating</th>\n",
       "      <th>food_rating</th>\n",
       "      <th>service_rating</th>\n",
       "    </tr>\n",
       "  </thead>\n",
       "  <tbody>\n",
       "    <tr>\n",
       "      <th>0</th>\n",
       "      <td>U1077</td>\n",
       "      <td>135085</td>\n",
       "      <td>2</td>\n",
       "      <td>2</td>\n",
       "      <td>2</td>\n",
       "    </tr>\n",
       "    <tr>\n",
       "      <th>1</th>\n",
       "      <td>U1077</td>\n",
       "      <td>135038</td>\n",
       "      <td>2</td>\n",
       "      <td>2</td>\n",
       "      <td>1</td>\n",
       "    </tr>\n",
       "    <tr>\n",
       "      <th>2</th>\n",
       "      <td>U1077</td>\n",
       "      <td>132825</td>\n",
       "      <td>2</td>\n",
       "      <td>2</td>\n",
       "      <td>2</td>\n",
       "    </tr>\n",
       "    <tr>\n",
       "      <th>3</th>\n",
       "      <td>U1077</td>\n",
       "      <td>135060</td>\n",
       "      <td>1</td>\n",
       "      <td>2</td>\n",
       "      <td>2</td>\n",
       "    </tr>\n",
       "    <tr>\n",
       "      <th>4</th>\n",
       "      <td>U1068</td>\n",
       "      <td>135104</td>\n",
       "      <td>1</td>\n",
       "      <td>1</td>\n",
       "      <td>2</td>\n",
       "    </tr>\n",
       "    <tr>\n",
       "      <th>...</th>\n",
       "      <td>...</td>\n",
       "      <td>...</td>\n",
       "      <td>...</td>\n",
       "      <td>...</td>\n",
       "      <td>...</td>\n",
       "    </tr>\n",
       "    <tr>\n",
       "      <th>1156</th>\n",
       "      <td>U1043</td>\n",
       "      <td>132630</td>\n",
       "      <td>1</td>\n",
       "      <td>1</td>\n",
       "      <td>1</td>\n",
       "    </tr>\n",
       "    <tr>\n",
       "      <th>1157</th>\n",
       "      <td>U1011</td>\n",
       "      <td>132715</td>\n",
       "      <td>1</td>\n",
       "      <td>1</td>\n",
       "      <td>0</td>\n",
       "    </tr>\n",
       "    <tr>\n",
       "      <th>1158</th>\n",
       "      <td>U1068</td>\n",
       "      <td>132733</td>\n",
       "      <td>1</td>\n",
       "      <td>1</td>\n",
       "      <td>0</td>\n",
       "    </tr>\n",
       "    <tr>\n",
       "      <th>1159</th>\n",
       "      <td>U1068</td>\n",
       "      <td>132594</td>\n",
       "      <td>1</td>\n",
       "      <td>1</td>\n",
       "      <td>1</td>\n",
       "    </tr>\n",
       "    <tr>\n",
       "      <th>1160</th>\n",
       "      <td>U1068</td>\n",
       "      <td>132660</td>\n",
       "      <td>0</td>\n",
       "      <td>0</td>\n",
       "      <td>0</td>\n",
       "    </tr>\n",
       "  </tbody>\n",
       "</table>\n",
       "<p>1161 rows × 5 columns</p>\n",
       "</div>"
      ],
      "text/plain": [
       "     userID  placeID  rating  food_rating  service_rating\n",
       "0     U1077   135085       2            2               2\n",
       "1     U1077   135038       2            2               1\n",
       "2     U1077   132825       2            2               2\n",
       "3     U1077   135060       1            2               2\n",
       "4     U1068   135104       1            1               2\n",
       "...     ...      ...     ...          ...             ...\n",
       "1156  U1043   132630       1            1               1\n",
       "1157  U1011   132715       1            1               0\n",
       "1158  U1068   132733       1            1               0\n",
       "1159  U1068   132594       1            1               1\n",
       "1160  U1068   132660       0            0               0\n",
       "\n",
       "[1161 rows x 5 columns]"
      ]
     },
     "execution_count": 3,
     "metadata": {},
     "output_type": "execute_result"
    }
   ],
   "source": [
    "dataset"
   ]
  },
  {
   "cell_type": "code",
   "execution_count": 4,
   "metadata": {},
   "outputs": [],
   "source": [
    "%matplotlib inline"
   ]
  },
  {
   "cell_type": "code",
   "execution_count": 5,
   "metadata": {},
   "outputs": [],
   "source": [
    "import matplotlib.pyplot as plt\n",
    "datasetAgainstRating = dataset.drop(['rating'],axis = 1)"
   ]
  },
  {
   "cell_type": "code",
   "execution_count": 6,
   "metadata": {},
   "outputs": [
    {
     "data": {
      "text/plain": [
       "array([[<AxesSubplot:title={'center':'placeID'}>,\n",
       "        <AxesSubplot:title={'center':'food_rating'}>],\n",
       "       [<AxesSubplot:title={'center':'service_rating'}>, <AxesSubplot:>]],\n",
       "      dtype=object)"
      ]
     },
     "execution_count": 6,
     "metadata": {},
     "output_type": "execute_result"
    },
    {
     "data": {
      "image/png": "[encoded data removed]",
      "text/plain": [
       "<Figure size 1440x1080 with 4 Axes>"
      ]
     },
     "metadata": {
      "needs_background": "light"
     },
     "output_type": "display_data"
    }
   ],
   "source": [
    "datasetAgainstRating.hist(bins=50, figsize = (20,15))"
   ]
  },
  {
   "cell_type": "code",
   "execution_count": 7,
   "metadata": {},
   "outputs": [],
   "source": [
    "matrix = dataset.corr()"
   ]
  },
  {
   "cell_type": "code",
   "execution_count": 8,
   "metadata": {},
   "outputs": [
    {
     "data": {
      "text/plain": [
       "placeID           0.073768\n",
       "rating            1.000000\n",
       "food_rating       0.714855\n",
       "service_rating    0.690757\n",
       "Name: rating, dtype: float64"
      ]
     },
     "execution_count": 8,
     "metadata": {},
     "output_type": "execute_result"
    }
   ],
   "source": [
    "matrix['rating']"
   ]
  },
  {
   "cell_type": "code",
   "execution_count": 9,
   "metadata": {},
   "outputs": [
    {
     "data": {
      "text/html": [
       "<div>\n",
       "<style scoped>\n",
       "    .dataframe tbody tr th:only-of-type {\n",
       "        vertical-align: middle;\n",
       "    }\n",
       "\n",
       "    .dataframe tbody tr th {\n",
       "        vertical-align: top;\n",
       "    }\n",
       "\n",
       "    .dataframe thead th {\n",
       "        text-align: right;\n",
       "    }\n",
       "</style>\n",
       "<table border=\"1\" class=\"dataframe\">\n",
       "  <thead>\n",
       "    <tr style=\"text-align: right;\">\n",
       "      <th></th>\n",
       "      <th>placeID</th>\n",
       "      <th>rating</th>\n",
       "      <th>food_rating</th>\n",
       "      <th>service_rating</th>\n",
       "    </tr>\n",
       "  </thead>\n",
       "  <tbody>\n",
       "    <tr>\n",
       "      <th>count</th>\n",
       "      <td>1161.000000</td>\n",
       "      <td>1161.000000</td>\n",
       "      <td>1161.000000</td>\n",
       "      <td>1161.000000</td>\n",
       "    </tr>\n",
       "    <tr>\n",
       "      <th>mean</th>\n",
       "      <td>134192.041344</td>\n",
       "      <td>1.199828</td>\n",
       "      <td>1.215332</td>\n",
       "      <td>1.090439</td>\n",
       "    </tr>\n",
       "    <tr>\n",
       "      <th>std</th>\n",
       "      <td>1100.916275</td>\n",
       "      <td>0.773282</td>\n",
       "      <td>0.792294</td>\n",
       "      <td>0.790844</td>\n",
       "    </tr>\n",
       "    <tr>\n",
       "      <th>min</th>\n",
       "      <td>132560.000000</td>\n",
       "      <td>0.000000</td>\n",
       "      <td>0.000000</td>\n",
       "      <td>0.000000</td>\n",
       "    </tr>\n",
       "    <tr>\n",
       "      <th>25%</th>\n",
       "      <td>132856.000000</td>\n",
       "      <td>1.000000</td>\n",
       "      <td>1.000000</td>\n",
       "      <td>0.000000</td>\n",
       "    </tr>\n",
       "    <tr>\n",
       "      <th>50%</th>\n",
       "      <td>135030.000000</td>\n",
       "      <td>1.000000</td>\n",
       "      <td>1.000000</td>\n",
       "      <td>1.000000</td>\n",
       "    </tr>\n",
       "    <tr>\n",
       "      <th>75%</th>\n",
       "      <td>135059.000000</td>\n",
       "      <td>2.000000</td>\n",
       "      <td>2.000000</td>\n",
       "      <td>2.000000</td>\n",
       "    </tr>\n",
       "    <tr>\n",
       "      <th>max</th>\n",
       "      <td>135109.000000</td>\n",
       "      <td>2.000000</td>\n",
       "      <td>2.000000</td>\n",
       "      <td>2.000000</td>\n",
       "    </tr>\n",
       "  </tbody>\n",
       "</table>\n",
       "</div>"
      ],
      "text/plain": [
       "             placeID       rating  food_rating  service_rating\n",
       "count    1161.000000  1161.000000  1161.000000     1161.000000\n",
       "mean   134192.041344     1.199828     1.215332        1.090439\n",
       "std      1100.916275     0.773282     0.792294        0.790844\n",
       "min    132560.000000     0.000000     0.000000        0.000000\n",
       "25%    132856.000000     1.000000     1.000000        0.000000\n",
       "50%    135030.000000     1.000000     1.000000        1.000000\n",
       "75%    135059.000000     2.000000     2.000000        2.000000\n",
       "max    135109.000000     2.000000     2.000000        2.000000"
      ]
     },
     "execution_count": 9,
     "metadata": {},
     "output_type": "execute_result"
    }
   ],
   "source": [
    "dataset.describe()"
   ]
  },
  {
   "cell_type": "code",
   "execution_count": 10,
   "metadata": {},
   "outputs": [],
   "source": [
    "dataset = dataset.drop('placeID',axis=1)\n",
    "dataset = dataset.drop('userID',axis=1)\n",
    "\n"
   ]
  },
  {
   "cell_type": "code",
   "execution_count": 11,
   "metadata": {},
   "outputs": [
    {
     "data": {
      "text/html": [
       "<div>\n",
       "<style scoped>\n",
       "    .dataframe tbody tr th:only-of-type {\n",
       "        vertical-align: middle;\n",
       "    }\n",
       "\n",
       "    .dataframe tbody tr th {\n",
       "        vertical-align: top;\n",
       "    }\n",
       "\n",
       "    .dataframe thead th {\n",
       "        text-align: right;\n",
       "    }\n",
       "</style>\n",
       "<table border=\"1\" class=\"dataframe\">\n",
       "  <thead>\n",
       "    <tr style=\"text-align: right;\">\n",
       "      <th></th>\n",
       "      <th>rating</th>\n",
       "      <th>food_rating</th>\n",
       "      <th>service_rating</th>\n",
       "    </tr>\n",
       "  </thead>\n",
       "  <tbody>\n",
       "    <tr>\n",
       "      <th>0</th>\n",
       "      <td>2</td>\n",
       "      <td>2</td>\n",
       "      <td>2</td>\n",
       "    </tr>\n",
       "    <tr>\n",
       "      <th>1</th>\n",
       "      <td>2</td>\n",
       "      <td>2</td>\n",
       "      <td>1</td>\n",
       "    </tr>\n",
       "    <tr>\n",
       "      <th>2</th>\n",
       "      <td>2</td>\n",
       "      <td>2</td>\n",
       "      <td>2</td>\n",
       "    </tr>\n",
       "    <tr>\n",
       "      <th>3</th>\n",
       "      <td>1</td>\n",
       "      <td>2</td>\n",
       "      <td>2</td>\n",
       "    </tr>\n",
       "    <tr>\n",
       "      <th>4</th>\n",
       "      <td>1</td>\n",
       "      <td>1</td>\n",
       "      <td>2</td>\n",
       "    </tr>\n",
       "    <tr>\n",
       "      <th>...</th>\n",
       "      <td>...</td>\n",
       "      <td>...</td>\n",
       "      <td>...</td>\n",
       "    </tr>\n",
       "    <tr>\n",
       "      <th>1156</th>\n",
       "      <td>1</td>\n",
       "      <td>1</td>\n",
       "      <td>1</td>\n",
       "    </tr>\n",
       "    <tr>\n",
       "      <th>1157</th>\n",
       "      <td>1</td>\n",
       "      <td>1</td>\n",
       "      <td>0</td>\n",
       "    </tr>\n",
       "    <tr>\n",
       "      <th>1158</th>\n",
       "      <td>1</td>\n",
       "      <td>1</td>\n",
       "      <td>0</td>\n",
       "    </tr>\n",
       "    <tr>\n",
       "      <th>1159</th>\n",
       "      <td>1</td>\n",
       "      <td>1</td>\n",
       "      <td>1</td>\n",
       "    </tr>\n",
       "    <tr>\n",
       "      <th>1160</th>\n",
       "      <td>0</td>\n",
       "      <td>0</td>\n",
       "      <td>0</td>\n",
       "    </tr>\n",
       "  </tbody>\n",
       "</table>\n",
       "<p>1161 rows × 3 columns</p>\n",
       "</div>"
      ],
      "text/plain": [
       "      rating  food_rating  service_rating\n",
       "0          2            2               2\n",
       "1          2            2               1\n",
       "2          2            2               2\n",
       "3          1            2               2\n",
       "4          1            1               2\n",
       "...      ...          ...             ...\n",
       "1156       1            1               1\n",
       "1157       1            1               0\n",
       "1158       1            1               0\n",
       "1159       1            1               1\n",
       "1160       0            0               0\n",
       "\n",
       "[1161 rows x 3 columns]"
      ]
     },
     "execution_count": 11,
     "metadata": {},
     "output_type": "execute_result"
    }
   ],
   "source": [
    "dataset"
   ]
  },
  {
   "cell_type": "code",
   "execution_count": 12,
   "metadata": {},
   "outputs": [],
   "source": [
    "from sklearn.model_selection import train_test_split\n",
    "train_set,test_set = train_test_split(dataset,test_size = 0.2,random_state = 42)\n"
   ]
  },
  {
   "cell_type": "code",
   "execution_count": 13,
   "metadata": {},
   "outputs": [
    {
     "data": {
      "text/plain": [
       "928"
      ]
     },
     "execution_count": 13,
     "metadata": {},
     "output_type": "execute_result"
    }
   ],
   "source": [
    "len(train_set)"
   ]
  },
  {
   "cell_type": "code",
   "execution_count": 14,
   "metadata": {},
   "outputs": [
    {
     "data": {
      "text/plain": [
       "233"
      ]
     },
     "execution_count": 14,
     "metadata": {},
     "output_type": "execute_result"
    }
   ],
   "source": [
    "len(test_set)"
   ]
  },
  {
   "cell_type": "code",
   "execution_count": 15,
   "metadata": {},
   "outputs": [
    {
     "data": {
      "text/html": [
       "<div>\n",
       "<style scoped>\n",
       "    .dataframe tbody tr th:only-of-type {\n",
       "        vertical-align: middle;\n",
       "    }\n",
       "\n",
       "    .dataframe tbody tr th {\n",
       "        vertical-align: top;\n",
       "    }\n",
       "\n",
       "    .dataframe thead th {\n",
       "        text-align: right;\n",
       "    }\n",
       "</style>\n",
       "<table border=\"1\" class=\"dataframe\">\n",
       "  <thead>\n",
       "    <tr style=\"text-align: right;\">\n",
       "      <th></th>\n",
       "      <th>rating</th>\n",
       "      <th>food_rating</th>\n",
       "      <th>service_rating</th>\n",
       "    </tr>\n",
       "  </thead>\n",
       "  <tbody>\n",
       "    <tr>\n",
       "      <th>759</th>\n",
       "      <td>2</td>\n",
       "      <td>2</td>\n",
       "      <td>2</td>\n",
       "    </tr>\n",
       "    <tr>\n",
       "      <th>816</th>\n",
       "      <td>1</td>\n",
       "      <td>1</td>\n",
       "      <td>1</td>\n",
       "    </tr>\n",
       "    <tr>\n",
       "      <th>862</th>\n",
       "      <td>0</td>\n",
       "      <td>1</td>\n",
       "      <td>0</td>\n",
       "    </tr>\n",
       "    <tr>\n",
       "      <th>394</th>\n",
       "      <td>1</td>\n",
       "      <td>2</td>\n",
       "      <td>0</td>\n",
       "    </tr>\n",
       "    <tr>\n",
       "      <th>693</th>\n",
       "      <td>2</td>\n",
       "      <td>2</td>\n",
       "      <td>2</td>\n",
       "    </tr>\n",
       "    <tr>\n",
       "      <th>...</th>\n",
       "      <td>...</td>\n",
       "      <td>...</td>\n",
       "      <td>...</td>\n",
       "    </tr>\n",
       "    <tr>\n",
       "      <th>1044</th>\n",
       "      <td>0</td>\n",
       "      <td>0</td>\n",
       "      <td>0</td>\n",
       "    </tr>\n",
       "    <tr>\n",
       "      <th>1095</th>\n",
       "      <td>2</td>\n",
       "      <td>2</td>\n",
       "      <td>2</td>\n",
       "    </tr>\n",
       "    <tr>\n",
       "      <th>1130</th>\n",
       "      <td>1</td>\n",
       "      <td>1</td>\n",
       "      <td>0</td>\n",
       "    </tr>\n",
       "    <tr>\n",
       "      <th>860</th>\n",
       "      <td>1</td>\n",
       "      <td>1</td>\n",
       "      <td>1</td>\n",
       "    </tr>\n",
       "    <tr>\n",
       "      <th>1126</th>\n",
       "      <td>0</td>\n",
       "      <td>0</td>\n",
       "      <td>0</td>\n",
       "    </tr>\n",
       "  </tbody>\n",
       "</table>\n",
       "<p>928 rows × 3 columns</p>\n",
       "</div>"
      ],
      "text/plain": [
       "      rating  food_rating  service_rating\n",
       "759        2            2               2\n",
       "816        1            1               1\n",
       "862        0            1               0\n",
       "394        1            2               0\n",
       "693        2            2               2\n",
       "...      ...          ...             ...\n",
       "1044       0            0               0\n",
       "1095       2            2               2\n",
       "1130       1            1               0\n",
       "860        1            1               1\n",
       "1126       0            0               0\n",
       "\n",
       "[928 rows x 3 columns]"
      ]
     },
     "execution_count": 15,
     "metadata": {},
     "output_type": "execute_result"
    }
   ],
   "source": [
    "train_set"
   ]
  },
  {
   "cell_type": "code",
   "execution_count": 16,
   "metadata": {},
   "outputs": [
    {
     "data": {
      "text/html": [
       "<div>\n",
       "<style scoped>\n",
       "    .dataframe tbody tr th:only-of-type {\n",
       "        vertical-align: middle;\n",
       "    }\n",
       "\n",
       "    .dataframe tbody tr th {\n",
       "        vertical-align: top;\n",
       "    }\n",
       "\n",
       "    .dataframe thead th {\n",
       "        text-align: right;\n",
       "    }\n",
       "</style>\n",
       "<table border=\"1\" class=\"dataframe\">\n",
       "  <thead>\n",
       "    <tr style=\"text-align: right;\">\n",
       "      <th></th>\n",
       "      <th>rating</th>\n",
       "      <th>food_rating</th>\n",
       "      <th>service_rating</th>\n",
       "    </tr>\n",
       "  </thead>\n",
       "  <tbody>\n",
       "    <tr>\n",
       "      <th>0</th>\n",
       "      <td>2</td>\n",
       "      <td>2</td>\n",
       "      <td>2</td>\n",
       "    </tr>\n",
       "    <tr>\n",
       "      <th>1</th>\n",
       "      <td>2</td>\n",
       "      <td>2</td>\n",
       "      <td>1</td>\n",
       "    </tr>\n",
       "    <tr>\n",
       "      <th>2</th>\n",
       "      <td>2</td>\n",
       "      <td>2</td>\n",
       "      <td>2</td>\n",
       "    </tr>\n",
       "    <tr>\n",
       "      <th>3</th>\n",
       "      <td>1</td>\n",
       "      <td>2</td>\n",
       "      <td>2</td>\n",
       "    </tr>\n",
       "    <tr>\n",
       "      <th>4</th>\n",
       "      <td>1</td>\n",
       "      <td>1</td>\n",
       "      <td>2</td>\n",
       "    </tr>\n",
       "    <tr>\n",
       "      <th>...</th>\n",
       "      <td>...</td>\n",
       "      <td>...</td>\n",
       "      <td>...</td>\n",
       "    </tr>\n",
       "    <tr>\n",
       "      <th>1156</th>\n",
       "      <td>1</td>\n",
       "      <td>1</td>\n",
       "      <td>1</td>\n",
       "    </tr>\n",
       "    <tr>\n",
       "      <th>1157</th>\n",
       "      <td>1</td>\n",
       "      <td>1</td>\n",
       "      <td>0</td>\n",
       "    </tr>\n",
       "    <tr>\n",
       "      <th>1158</th>\n",
       "      <td>1</td>\n",
       "      <td>1</td>\n",
       "      <td>0</td>\n",
       "    </tr>\n",
       "    <tr>\n",
       "      <th>1159</th>\n",
       "      <td>1</td>\n",
       "      <td>1</td>\n",
       "      <td>1</td>\n",
       "    </tr>\n",
       "    <tr>\n",
       "      <th>1160</th>\n",
       "      <td>0</td>\n",
       "      <td>0</td>\n",
       "      <td>0</td>\n",
       "    </tr>\n",
       "  </tbody>\n",
       "</table>\n",
       "<p>1161 rows × 3 columns</p>\n",
       "</div>"
      ],
      "text/plain": [
       "      rating  food_rating  service_rating\n",
       "0          2            2               2\n",
       "1          2            2               1\n",
       "2          2            2               2\n",
       "3          1            2               2\n",
       "4          1            1               2\n",
       "...      ...          ...             ...\n",
       "1156       1            1               1\n",
       "1157       1            1               0\n",
       "1158       1            1               0\n",
       "1159       1            1               1\n",
       "1160       0            0               0\n",
       "\n",
       "[1161 rows x 3 columns]"
      ]
     },
     "execution_count": 16,
     "metadata": {},
     "output_type": "execute_result"
    }
   ],
   "source": [
    "dataset"
   ]
  },
  {
   "cell_type": "code",
   "execution_count": 17,
   "metadata": {},
   "outputs": [],
   "source": [
    "train_set_without_label = train_set.drop(\"rating\",axis = 1)\n",
    "labels = train_set[\"rating\"].copy()"
   ]
  },
  {
   "cell_type": "code",
   "execution_count": 18,
   "metadata": {},
   "outputs": [
    {
     "data": {
      "text/html": [
       "<div>\n",
       "<style scoped>\n",
       "    .dataframe tbody tr th:only-of-type {\n",
       "        vertical-align: middle;\n",
       "    }\n",
       "\n",
       "    .dataframe tbody tr th {\n",
       "        vertical-align: top;\n",
       "    }\n",
       "\n",
       "    .dataframe thead th {\n",
       "        text-align: right;\n",
       "    }\n",
       "</style>\n",
       "<table border=\"1\" class=\"dataframe\">\n",
       "  <thead>\n",
       "    <tr style=\"text-align: right;\">\n",
       "      <th></th>\n",
       "      <th>food_rating</th>\n",
       "      <th>service_rating</th>\n",
       "    </tr>\n",
       "  </thead>\n",
       "  <tbody>\n",
       "    <tr>\n",
       "      <th>759</th>\n",
       "      <td>2</td>\n",
       "      <td>2</td>\n",
       "    </tr>\n",
       "    <tr>\n",
       "      <th>816</th>\n",
       "      <td>1</td>\n",
       "      <td>1</td>\n",
       "    </tr>\n",
       "    <tr>\n",
       "      <th>862</th>\n",
       "      <td>1</td>\n",
       "      <td>0</td>\n",
       "    </tr>\n",
       "    <tr>\n",
       "      <th>394</th>\n",
       "      <td>2</td>\n",
       "      <td>0</td>\n",
       "    </tr>\n",
       "    <tr>\n",
       "      <th>693</th>\n",
       "      <td>2</td>\n",
       "      <td>2</td>\n",
       "    </tr>\n",
       "    <tr>\n",
       "      <th>...</th>\n",
       "      <td>...</td>\n",
       "      <td>...</td>\n",
       "    </tr>\n",
       "    <tr>\n",
       "      <th>1044</th>\n",
       "      <td>0</td>\n",
       "      <td>0</td>\n",
       "    </tr>\n",
       "    <tr>\n",
       "      <th>1095</th>\n",
       "      <td>2</td>\n",
       "      <td>2</td>\n",
       "    </tr>\n",
       "    <tr>\n",
       "      <th>1130</th>\n",
       "      <td>1</td>\n",
       "      <td>0</td>\n",
       "    </tr>\n",
       "    <tr>\n",
       "      <th>860</th>\n",
       "      <td>1</td>\n",
       "      <td>1</td>\n",
       "    </tr>\n",
       "    <tr>\n",
       "      <th>1126</th>\n",
       "      <td>0</td>\n",
       "      <td>0</td>\n",
       "    </tr>\n",
       "  </tbody>\n",
       "</table>\n",
       "<p>928 rows × 2 columns</p>\n",
       "</div>"
      ],
      "text/plain": [
       "      food_rating  service_rating\n",
       "759             2               2\n",
       "816             1               1\n",
       "862             1               0\n",
       "394             2               0\n",
       "693             2               2\n",
       "...           ...             ...\n",
       "1044            0               0\n",
       "1095            2               2\n",
       "1130            1               0\n",
       "860             1               1\n",
       "1126            0               0\n",
       "\n",
       "[928 rows x 2 columns]"
      ]
     },
     "execution_count": 18,
     "metadata": {},
     "output_type": "execute_result"
    }
   ],
   "source": [
    "train_set_without_label"
   ]
  },
  {
   "cell_type": "code",
   "execution_count": 19,
   "metadata": {},
   "outputs": [
    {
     "data": {
      "text/plain": [
       "759     2\n",
       "816     1\n",
       "862     0\n",
       "394     1\n",
       "693     2\n",
       "       ..\n",
       "1044    0\n",
       "1095    2\n",
       "1130    1\n",
       "860     1\n",
       "1126    0\n",
       "Name: rating, Length: 928, dtype: int64"
      ]
     },
     "execution_count": 19,
     "metadata": {},
     "output_type": "execute_result"
    }
   ],
   "source": [
    "labels"
   ]
  },
  {
   "cell_type": "code",
   "execution_count": 20,
   "metadata": {},
   "outputs": [
    {
     "data": {
      "text/plain": [
       "SimpleImputer(strategy='median')"
      ]
     },
     "execution_count": 20,
     "metadata": {},
     "output_type": "execute_result"
    }
   ],
   "source": [
    "from sklearn.impute import SimpleImputer\n",
    "imputer= SimpleImputer(strategy = \"median\")\n",
    "imputer.fit(train_set)"
   ]
  },
  {
   "cell_type": "code",
   "execution_count": 21,
   "metadata": {},
   "outputs": [],
   "source": [
    "from sklearn.pipeline import Pipeline\n",
    "from sklearn.impute import SimpleImputer\n",
    "from sklearn.preprocessing import StandardScaler\n",
    "my_pipeline = Pipeline([\n",
    "    ('imputer',SimpleImputer(strategy = \"median\")),\n",
    "    ('std_scalar',StandardScaler()),\n",
    "])"
   ]
  },
  {
   "cell_type": "code",
   "execution_count": 22,
   "metadata": {},
   "outputs": [],
   "source": [
    "dataset_num_tr = my_pipeline.fit_transform(train_set_without_label)"
   ]
  },
  {
   "cell_type": "code",
   "execution_count": 23,
   "metadata": {},
   "outputs": [
    {
     "data": {
      "text/plain": [
       "array([[ 0.99311102,  1.14324695],\n",
       "       [-0.27457402, -0.10637987],\n",
       "       [-0.27457402, -1.35600669],\n",
       "       ...,\n",
       "       [-0.27457402, -1.35600669],\n",
       "       [-0.27457402, -0.10637987],\n",
       "       [-1.54225906, -1.35600669]])"
      ]
     },
     "execution_count": 23,
     "metadata": {},
     "output_type": "execute_result"
    }
   ],
   "source": [
    "dataset_num_tr"
   ]
  },
  {
   "cell_type": "code",
   "execution_count": 24,
   "metadata": {},
   "outputs": [],
   "source": [
    "def print_scores(scores):\n",
    "    print(\"scores: \",scores)\n",
    "    print(\"Mean: \",scores.mean())\n",
    "    print(\"Standard deviation: \",scores.std())"
   ]
  },
  {
   "cell_type": "code",
   "execution_count": 25,
   "metadata": {},
   "outputs": [
    {
     "data": {
      "text/plain": [
       "LogisticRegression()"
      ]
     },
     "execution_count": 25,
     "metadata": {},
     "output_type": "execute_result"
    }
   ],
   "source": [
    "from sklearn.linear_model import LogisticRegression\n",
    "logisticModel = LogisticRegression()\n",
    "logisticModel.fit(dataset_num_tr,labels)"
   ]
  },
  {
   "cell_type": "code",
   "execution_count": 26,
   "metadata": {
    "scrolled": true
   },
   "outputs": [
    {
     "name": "stdout",
     "output_type": "stream",
     "text": [
      "[2, 1, 1, 1, 2, 0, 1, 2, 1, 2, 2, 2, 2, 2, 1, 2, 2, 2, 0, 1, 2, 0, 1, 1, 1, 1, 2, 2, 2, 1, 2, 2, 1, 0, 2, 1, 2, 2, 2, 0, 0, 2, 2, 1, 1, 2, 1, 1, 0, 2, 1, 2, 1, 2, 1, 0, 1, 1, 1, 1, 0, 1, 2, 1, 2, 1, 1, 1, 1, 0, 1, 0, 2, 0, 0, 1, 1, 2, 1, 2, 0, 2, 2, 2, 1, 2, 2, 1, 2, 1, 2, 0, 1, 1, 1, 1, 1, 0, 2, 2, 1, 1, 0, 2, 0, 1, 2, 1, 1, 0, 2, 0, 1, 2, 1, 2, 2, 2, 1, 1, 1, 1, 2, 0, 2, 1, 1, 1, 1, 1, 1, 1, 1, 1, 2, 0, 1, 1, 1, 1, 2, 2, 2, 2, 0, 2, 1, 1, 2, 2, 2, 1, 1, 2, 2, 1, 2, 0, 0, 1, 1, 1, 2, 2, 2, 2, 2, 2, 2, 1, 2, 0, 1, 2, 0, 2, 2, 0, 2, 0, 2, 2, 2, 1, 2, 2, 2, 2, 2, 2, 2, 2, 2, 1, 0, 0, 2, 2, 2, 2, 1, 0, 1, 1, 0, 0, 1, 2, 1, 2, 2, 1, 2, 2, 1, 2, 2, 1, 2, 2, 0, 2, 2, 2, 1, 2, 2, 2, 1, 1, 1, 1, 2, 2, 2, 1, 2, 0, 2, 2, 1, 2, 2, 1, 2, 2, 0, 2, 2, 2, 2, 1, 0, 1, 1, 1, 2, 1, 1, 2, 2, 2, 1, 2, 2, 1, 2, 0, 1, 0, 2, 0, 2, 2, 0, 0, 0, 1, 2, 0, 2, 2, 1, 2, 1, 0, 2, 1, 1, 1, 1, 2, 2, 1, 1, 2, 1, 0, 1, 2, 0, 1, 2, 2, 1, 2, 2, 2, 2, 2, 0, 2, 2, 1, 1, 2, 2, 1, 2, 2, 1, 2, 2, 1, 2, 0, 2, 2, 0, 2, 2, 2, 0, 1, 1, 0, 1, 2, 1, 2, 0, 2, 2, 2, 1, 0, 0, 1, 2, 0, 1, 2, 2, 1, 0, 1, 2, 0, 1, 0, 2, 2, 2, 2, 1, 0, 2, 2, 2, 1, 1, 1, 2, 1, 2, 0, 1, 2, 2, 1, 2, 2, 1, 1, 2, 2, 2, 2, 2, 2, 0, 2, 2, 2, 2, 2, 1, 2, 2, 1, 2, 0, 1, 1, 2, 1, 2, 2, 2, 1, 0, 0, 1, 2, 1, 1, 1, 0, 2, 0, 1, 0, 2, 2, 1, 1, 2, 0, 2, 2, 1, 2, 2, 2, 1, 1, 2, 2, 2, 0, 2, 2, 2, 2, 0, 1, 0, 1, 2, 2, 1, 1, 2, 0, 2, 1, 1, 2, 1, 2, 0, 2, 1, 0, 0, 2, 2, 0, 1, 0, 2, 2, 2, 1, 2, 1, 0, 2, 1, 2, 1, 2, 0, 0, 2, 2, 2, 0, 2, 2, 0, 2, 2, 1, 0, 2, 2, 2, 2, 0, 1, 1, 1, 2, 1, 1, 0, 2, 2, 2, 2, 1, 2, 1, 1, 1, 1, 1, 2, 0, 1, 0, 2, 1, 1, 1, 1, 2, 2, 2, 0, 0, 2, 0, 2, 1, 1, 2, 2, 1, 2, 2, 2, 2, 0, 0, 0, 2, 2, 2, 1, 1, 0, 2, 2, 0, 0, 1, 2, 0, 0, 1, 0, 1, 2, 2, 1, 1, 2, 2, 0, 1, 1, 1, 1, 2, 2, 0, 1, 1, 2, 2, 2, 2, 2, 0, 1, 1, 2, 2, 2, 2, 1, 2, 0, 0, 2, 2, 1, 2, 2, 2, 2, 0, 2, 1, 1, 2, 2, 1, 2, 2, 2, 2, 2, 1, 1, 0, 2, 2, 0, 0, 1, 0, 1, 1, 2, 2, 0, 0, 2, 1, 2, 1, 2, 2, 0, 2, 0, 0, 0, 1, 1, 2, 1, 2, 0, 2, 0, 1, 2, 0, 2, 1, 2, 2, 2, 1, 1, 1, 2, 2, 0, 2, 1, 1, 1, 2, 2, 2, 1, 1, 1, 1, 0, 1, 0, 0, 2, 2, 2, 2, 0, 1, 0, 2, 1, 2, 2, 1, 1, 1, 1, 1, 2, 2, 1, 1, 1, 1, 2, 1, 2, 2, 0, 2, 0, 0, 2, 2, 0, 0, 1, 2, 2, 0, 1, 2, 2, 2, 2, 2, 2, 2, 0, 2, 2, 2, 1, 2, 2, 2, 2, 1, 2, 1, 0, 1, 2, 0, 0, 2, 1, 1, 2, 1, 1, 2, 2, 1, 2, 2, 2, 0, 1, 1, 2, 1, 2, 0, 0, 2, 1, 2, 1, 0, 1, 2, 2, 0, 0, 0, 2, 0, 2, 2, 1, 2, 1, 0, 1, 1, 1, 1, 2, 1, 2, 1, 1, 0, 2, 2, 1, 2, 2, 2, 2, 2, 2, 0, 1, 0, 2, 1, 2, 1, 2, 2, 2, 2, 0, 2, 0, 2, 0, 1, 2, 1, 1, 1, 2, 2, 2, 2, 1, 2, 2, 2, 1, 2, 2, 1, 1, 2, 2, 1, 1, 0, 0, 2, 1, 2, 1, 2, 2, 1, 2, 1, 2, 0, 1, 0, 1, 2, 2, 2, 1, 2, 0, 0, 1, 2, 1, 2, 1, 2, 1, 2, 2, 0, 1, 1, 2, 2, 1, 2, 0, 1, 2, 1, 1, 0, 0, 2, 2, 0, 0, 1, 1, 1, 2, 2, 1, 1, 0, 1, 2, 1, 0, 2, 0, 1, 1, 1, 2, 1, 2, 1, 1, 1, 1, 2, 0, 1, 1, 2, 0, 2, 1, 1, 2, 2, 1, 0, 2, 1, 1, 0]\n"
     ]
    }
   ],
   "source": [
    "from sklearn.metrics import mean_squared_error\n",
    "rating_predictions = logisticModel.predict(dataset_num_tr)\n",
    "mse = mean_squared_error(labels,rating_predictions)\n",
    "rmse = np.sqrt(mse)\n",
    "print(list(rating_predictions))"
   ]
  },
  {
   "cell_type": "code",
   "execution_count": 27,
   "metadata": {},
   "outputs": [
    {
     "data": {
      "text/plain": [
       "0.27478448275862066"
      ]
     },
     "execution_count": 27,
     "metadata": {},
     "output_type": "execute_result"
    }
   ],
   "source": [
    "mse"
   ]
  },
  {
   "cell_type": "code",
   "execution_count": 28,
   "metadata": {},
   "outputs": [
    {
     "data": {
      "text/plain": [
       "0.5241988961821845"
      ]
     },
     "execution_count": 28,
     "metadata": {},
     "output_type": "execute_result"
    }
   ],
   "source": [
    "rmse"
   ]
  },
  {
   "cell_type": "code",
   "execution_count": 29,
   "metadata": {},
   "outputs": [
    {
     "data": {
      "text/plain": [
       "LinearRegression()"
      ]
     },
     "execution_count": 29,
     "metadata": {},
     "output_type": "execute_result"
    }
   ],
   "source": [
    "from sklearn.linear_model import LinearRegression\n",
    "linearModel = LinearRegression()\n",
    "linearModel.fit(dataset_num_tr,labels)"
   ]
  },
  {
   "cell_type": "code",
   "execution_count": 30,
   "metadata": {},
   "outputs": [
    {
     "name": "stdout",
     "output_type": "stream",
     "text": [
      "[1.9227617326970576, 1.0706277982384627, 0.6786481458493558, 1.1388024279188438, 1.9227617326970576, 0.21849386377986768, 1.1388024279188438, 1.9227617326970576, 1.0706277982384627, 1.9227617326970576, 1.9227617326970576, 1.5307820803079508, 1.9227617326970576, 1.9227617326970576, 0.6786481458493558, 1.9227617326970576, 1.9227617326970576, 1.9227617326970576, 0.21849386377986768, 0.6786481458493558, 1.5307820803079508, 0.21849386377986768, 1.0706277982384627, 1.0706277982384627, 1.0706277982384627, 1.0706277982384627, 1.5307820803079508, 1.9227617326970576, 1.5307820803079508, 1.0706277982384627, 1.4626074506275697, 1.5307820803079508, 1.0706277982384627, 0.21849386377986768, 1.9227617326970576, 0.6104735161689746, 1.9227617326970576, 1.4626074506275697, 1.9227617326970576, 0.21849386377986768, 0.21849386377986768, 1.5307820803079508, 1.9227617326970576, 1.0706277982384627, 0.6104735161689746, 1.9227617326970576, 1.0706277982384627, 0.6104735161689746, 0.21849386377986768, 1.9227617326970576, 1.0706277982384627, 1.4626074506275697, 1.0706277982384627, 1.9227617326970576, 1.0706277982384627, 0.21849386377986768, 1.0706277982384627, 1.0706277982384627, 1.0706277982384627, 1.0706277982384627, 0.21849386377986768, 1.1388024279188438, 1.4626074506275697, 1.0706277982384627, 1.4626074506275697, 1.0024531685580815, 0.6104735161689746, 1.0706277982384627, 1.0706277982384627, 0.21849386377986768, 1.0706277982384627, 0.21849386377986768, 1.9227617326970576, 0.21849386377986768, 0.21849386377986768, 0.6786481458493558, 1.0706277982384627, 1.9227617326970576, 1.0706277982384627, 1.5307820803079508, 0.21849386377986768, 1.5307820803079508, 1.9227617326970576, 1.5307820803079508, 0.6786481458493558, 1.4626074506275697, 1.9227617326970576, 1.0706277982384627, 1.5307820803079508, 1.1388024279188438, 1.9227617326970576, 0.21849386377986768, 1.0706277982384627, 1.0706277982384627, 1.0706277982384627, 0.6104735161689746, 0.6786481458493558, 0.21849386377986768, 1.5307820803079508, 1.9227617326970576, 1.1388024279188438, 1.1388024279188438, 0.21849386377986768, 1.9227617326970576, 0.21849386377986768, 1.0706277982384627, 1.9227617326970576, 1.0706277982384627, 1.0706277982384627, 0.21849386377986768, 1.9227617326970576, 0.21849386377986768, 1.0706277982384627, 1.9227617326970576, 0.6786481458493558, 1.5307820803079508, 1.9227617326970576, 1.9227617326970576, 0.6786481458493558, 1.0706277982384627, 1.0706277982384627, 1.0706277982384627, 1.9227617326970576, 0.21849386377986768, 1.9227617326970576, 1.0706277982384627, 0.6786481458493558, 0.6786481458493558, 1.0024531685580815, 0.6786481458493558, 1.0706277982384627, 1.0706277982384627, 1.0706277982384627, 1.0706277982384627, 1.9227617326970576, 0.21849386377986768, 0.6786481458493558, 1.0706277982384627, 0.6786481458493558, 1.0706277982384627, 1.9227617326970576, 1.5307820803079508, 1.9227617326970576, 1.5307820803079508, 0.21849386377986768, 1.9227617326970576, 1.0706277982384627, 1.0706277982384627, 1.9227617326970576, 1.9227617326970576, 1.5307820803079508, 0.6786481458493558, 1.0706277982384627, 1.9227617326970576, 1.5307820803079508, 1.0706277982384627, 1.5307820803079508, 0.21849386377986768, 0.21849386377986768, 0.6786481458493558, 1.0024531685580815, 1.0706277982384627, 1.4626074506275697, 1.9227617326970576, 1.5307820803079508, 1.9227617326970576, 1.9227617326970576, 1.9227617326970576, 1.9227617326970576, 0.6786481458493558, 1.5307820803079508, 0.21849386377986768, 1.1388024279188438, 1.9227617326970576, 0.21849386377986768, 1.9227617326970576, 1.9227617326970576, 0.21849386377986768, 1.5307820803079508, 0.21849386377986768, 1.5307820803079508, 1.9227617326970576, 1.9227617326970576, 0.6104735161689746, 1.9227617326970576, 1.4626074506275697, 1.9227617326970576, 1.9227617326970576, 1.9227617326970576, 1.9227617326970576, 1.9227617326970576, 1.9227617326970576, 1.9227617326970576, 1.0706277982384627, 0.21849386377986768, 0.21849386377986768, 1.4626074506275697, 1.9227617326970576, 1.9227617326970576, 1.9227617326970576, 1.0706277982384627, 0.21849386377986768, 0.6786481458493558, 1.0706277982384627, 0.21849386377986768, 0.21849386377986768, 0.6104735161689746, 1.9227617326970576, 1.0706277982384627, 1.9227617326970576, 1.9227617326970576, 1.0706277982384627, 1.9227617326970576, 1.9227617326970576, 1.0706277982384627, 1.9227617326970576, 1.9227617326970576, 1.0706277982384627, 1.9227617326970576, 1.5307820803079508, 0.21849386377986768, 1.4626074506275697, 1.9227617326970576, 1.5307820803079508, 1.0706277982384627, 1.9227617326970576, 1.9227617326970576, 1.9227617326970576, 1.0706277982384627, 1.1388024279188438, 1.0706277982384627, 1.0706277982384627, 1.9227617326970576, 1.9227617326970576, 1.5307820803079508, 1.0706277982384627, 1.5307820803079508, 0.21849386377986768, 1.5307820803079508, 1.9227617326970576, 0.6786481458493558, 1.9227617326970576, 1.9227617326970576, 1.0706277982384627, 1.9227617326970576, 1.5307820803079508, 0.21849386377986768, 1.9227617326970576, 1.5307820803079508, 1.5307820803079508, 1.5307820803079508, 1.0706277982384627, 0.21849386377986768, 1.0706277982384627, 0.6786481458493558, 0.6786481458493558, 1.9227617326970576, 1.0706277982384627, 0.6786481458493558, 1.9227617326970576, 1.5307820803079508, 1.9227617326970576, 1.1388024279188438, 1.5307820803079508, 1.9227617326970576, 1.0706277982384627, 1.5307820803079508, 0.21849386377986768, 1.0706277982384627, 0.21849386377986768, 1.4626074506275697, 0.21849386377986768, 1.9227617326970576, 1.4626074506275697, 0.21849386377986768, 0.21849386377986768, 0.21849386377986768, 1.0706277982384627, 1.4626074506275697, 0.21849386377986768, 1.9227617326970576, 1.4626074506275697, 1.0706277982384627, 1.5307820803079508, 1.0706277982384627, 0.21849386377986768, 1.9227617326970576, 1.0706277982384627, 0.6786481458493558, 1.0706277982384627, 1.0706277982384627, 1.9227617326970576, 1.9227617326970576, 1.0706277982384627, 1.0706277982384627, 1.9227617326970576, 1.0706277982384627, 0.21849386377986768, 1.0706277982384627, 1.9227617326970576, 0.21849386377986768, 0.6104735161689746, 1.5307820803079508, 1.5307820803079508, 1.0706277982384627, 1.5307820803079508, 1.9227617326970576, 1.9227617326970576, 1.9227617326970576, 1.9227617326970576, 0.21849386377986768, 1.9227617326970576, 1.9227617326970576, 1.1388024279188438, 0.6786481458493558, 1.9227617326970576, 1.9227617326970576, 0.6786481458493558, 1.9227617326970576, 1.9227617326970576, 0.6786481458493558, 1.5307820803079508, 1.9227617326970576, 1.0706277982384627, 1.9227617326970576, 0.21849386377986768, 1.4626074506275697, 1.9227617326970576, 0.21849386377986768, 1.9227617326970576, 1.9227617326970576, 1.9227617326970576, 0.21849386377986768, 1.0706277982384627, 1.0706277982384627, 0.21849386377986768, 0.6786481458493558, 1.9227617326970576, 1.0706277982384627, 1.5307820803079508, 0.21849386377986768, 1.5307820803079508, 1.5307820803079508, 1.9227617326970576, 0.6786481458493558, 0.21849386377986768, 0.21849386377986768, 1.0706277982384627, 1.4626074506275697, 0.21849386377986768, 1.0706277982384627, 1.5307820803079508, 1.4626074506275697, 1.0706277982384627, 0.21849386377986768, 1.0706277982384627, 1.9227617326970576, 0.21849386377986768, 1.1388024279188438, 0.21849386377986768, 1.9227617326970576, 1.9227617326970576, 1.9227617326970576, 1.5307820803079508, 1.0706277982384627, 0.21849386377986768, 1.9227617326970576, 1.9227617326970576, 1.9227617326970576, 1.0706277982384627, 1.1388024279188438, 1.0706277982384627, 1.4626074506275697, 1.0706277982384627, 1.9227617326970576, 0.21849386377986768, 1.0706277982384627, 1.9227617326970576, 1.9227617326970576, 0.6786481458493558, 1.9227617326970576, 1.9227617326970576, 1.1388024279188438, 1.0706277982384627, 1.9227617326970576, 1.9227617326970576, 1.9227617326970576, 1.9227617326970576, 1.9227617326970576, 1.9227617326970576, 0.21849386377986768, 1.9227617326970576, 1.5307820803079508, 1.9227617326970576, 1.4626074506275697, 1.9227617326970576, 1.0706277982384627, 1.9227617326970576, 1.9227617326970576, 1.0706277982384627, 1.9227617326970576, 0.21849386377986768, 1.1388024279188438, 1.0706277982384627, 1.9227617326970576, 1.0706277982384627, 1.5307820803079508, 1.4626074506275697, 1.9227617326970576, 1.0706277982384627, 0.21849386377986768, 0.21849386377986768, 1.0706277982384627, 1.9227617326970576, 1.1388024279188438, 1.0706277982384627, 1.0706277982384627, 0.21849386377986768, 1.9227617326970576, 0.21849386377986768, 0.6786481458493558, 0.21849386377986768, 1.5307820803079508, 1.9227617326970576, 0.6786481458493558, 1.1388024279188438, 1.4626074506275697, 0.21849386377986768, 1.9227617326970576, 1.5307820803079508, 1.1388024279188438, 1.9227617326970576, 1.5307820803079508, 1.9227617326970576, 1.0706277982384627, 1.0706277982384627, 1.9227617326970576, 1.4626074506275697, 1.9227617326970576, 0.21849386377986768, 1.4626074506275697, 1.4626074506275697, 1.5307820803079508, 1.9227617326970576, 0.21849386377986768, 0.6786481458493558, 0.21849386377986768, 1.0706277982384627, 1.9227617326970576, 1.9227617326970576, 1.0024531685580815, 0.6786481458493558, 1.9227617326970576, 0.21849386377986768, 1.5307820803079508, 1.0024531685580815, 1.0706277982384627, 1.9227617326970576, 0.6786481458493558, 1.9227617326970576, 0.21849386377986768, 1.5307820803079508, 0.6104735161689746, 0.21849386377986768, 0.21849386377986768, 1.5307820803079508, 1.5307820803079508, 0.21849386377986768, 0.6104735161689746, 0.21849386377986768, 1.9227617326970576, 1.9227617326970576, 1.4626074506275697, 1.0706277982384627, 1.9227617326970576, 0.6786481458493558, 0.21849386377986768, 1.9227617326970576, 0.6786481458493558, 1.4626074506275697, 0.6786481458493558, 1.9227617326970576, 0.21849386377986768, 0.21849386377986768, 1.4626074506275697, 1.9227617326970576, 1.9227617326970576, 0.21849386377986768, 1.5307820803079508, 1.9227617326970576, 0.21849386377986768, 1.9227617326970576, 1.5307820803079508, 1.0706277982384627, 0.21849386377986768, 1.9227617326970576, 1.9227617326970576, 1.9227617326970576, 1.9227617326970576, 0.21849386377986768, 1.0706277982384627, 1.0706277982384627, 1.0706277982384627, 1.5307820803079508, 1.1388024279188438, 1.0706277982384627, 0.21849386377986768, 1.9227617326970576, 1.5307820803079508, 1.9227617326970576, 1.4626074506275697, 0.6786481458493558, 1.4626074506275697, 1.0706277982384627, 1.0706277982384627, 1.0706277982384627, 1.0706277982384627, 1.0706277982384627, 1.4626074506275697, 0.21849386377986768, 1.0706277982384627, 0.21849386377986768, 1.5307820803079508, 0.6786481458493558, 1.0706277982384627, 0.6104735161689746, 0.6104735161689746, 1.4626074506275697, 1.4626074506275697, 1.9227617326970576, 0.21849386377986768, 0.21849386377986768, 1.9227617326970576, 0.21849386377986768, 1.9227617326970576, 0.6786481458493558, 1.0706277982384627, 1.9227617326970576, 1.5307820803079508, 1.0706277982384627, 1.9227617326970576, 1.9227617326970576, 1.9227617326970576, 1.5307820803079508, 0.21849386377986768, 0.21849386377986768, 0.21849386377986768, 1.9227617326970576, 1.5307820803079508, 1.9227617326970576, 1.1388024279188438, 1.0706277982384627, 0.21849386377986768, 1.9227617326970576, 1.9227617326970576, 0.21849386377986768, 0.21849386377986768, 1.0706277982384627, 1.9227617326970576, 0.21849386377986768, 0.21849386377986768, 1.0706277982384627, 0.21849386377986768, 0.6786481458493558, 1.5307820803079508, 1.9227617326970576, 1.0024531685580815, 0.6786481458493558, 1.9227617326970576, 1.9227617326970576, 0.21849386377986768, 1.0706277982384627, 1.1388024279188438, 1.1388024279188438, 1.0706277982384627, 1.9227617326970576, 1.9227617326970576, 0.21849386377986768, 1.1388024279188438, 0.6786481458493558, 1.5307820803079508, 1.9227617326970576, 1.9227617326970576, 1.9227617326970576, 1.9227617326970576, 0.21849386377986768, 1.0706277982384627, 0.6104735161689746, 1.5307820803079508, 1.9227617326970576, 1.4626074506275697, 1.5307820803079508, 1.0706277982384627, 1.4626074506275697, 0.21849386377986768, 0.21849386377986768, 1.9227617326970576, 1.9227617326970576, 1.0024531685580815, 1.5307820803079508, 1.5307820803079508, 1.5307820803079508, 1.9227617326970576, 0.21849386377986768, 1.5307820803079508, 1.0706277982384627, 1.0706277982384627, 1.9227617326970576, 1.9227617326970576, 1.0706277982384627, 1.9227617326970576, 1.9227617326970576, 1.4626074506275697, 1.9227617326970576, 1.9227617326970576, 1.0706277982384627, 0.6786481458493558, 0.21849386377986768, 1.5307820803079508, 1.4626074506275697, 0.21849386377986768, 0.21849386377986768, 1.0706277982384627, 0.21849386377986768, 1.0706277982384627, 1.1388024279188438, 1.9227617326970576, 1.5307820803079508, 0.21849386377986768, 0.21849386377986768, 1.9227617326970576, 0.6786481458493558, 1.4626074506275697, 0.6786481458493558, 1.4626074506275697, 1.5307820803079508, 0.21849386377986768, 1.4626074506275697, 0.21849386377986768, 0.21849386377986768, 0.21849386377986768, 1.1388024279188438, 1.0706277982384627, 1.9227617326970576, 1.0706277982384627, 1.9227617326970576, 0.21849386377986768, 1.5307820803079508, 0.21849386377986768, 1.0706277982384627, 1.9227617326970576, 0.21849386377986768, 1.9227617326970576, 1.0706277982384627, 1.9227617326970576, 1.9227617326970576, 1.9227617326970576, 1.0706277982384627, 1.0706277982384627, 1.0024531685580815, 1.4626074506275697, 1.4626074506275697, 0.21849386377986768, 1.4626074506275697, 1.0706277982384627, 1.0706277982384627, 1.0706277982384627, 1.5307820803079508, 1.9227617326970576, 1.5307820803079508, 1.0024531685580815, 1.0706277982384627, 1.0706277982384627, 1.0706277982384627, 0.21849386377986768, 1.0706277982384627, 0.21849386377986768, 0.21849386377986768, 1.9227617326970576, 1.4626074506275697, 1.5307820803079508, 1.9227617326970576, 0.21849386377986768, 0.6786481458493558, 0.21849386377986768, 1.9227617326970576, 1.0706277982384627, 1.9227617326970576, 1.5307820803079508, 1.0706277982384627, 1.0706277982384627, 0.6786481458493558, 0.6104735161689746, 1.0706277982384627, 1.4626074506275697, 1.9227617326970576, 1.0706277982384627, 0.6786481458493558, 1.0706277982384627, 0.6104735161689746, 1.9227617326970576, 1.1388024279188438, 1.9227617326970576, 1.9227617326970576, 0.21849386377986768, 1.5307820803079508, 0.21849386377986768, 0.21849386377986768, 1.9227617326970576, 1.9227617326970576, 0.21849386377986768, 0.21849386377986768, 0.6104735161689746, 1.5307820803079508, 1.5307820803079508, 0.21849386377986768, 0.6786481458493558, 1.9227617326970576, 1.9227617326970576, 1.4626074506275697, 1.4626074506275697, 1.9227617326970576, 1.5307820803079508, 1.5307820803079508, 0.21849386377986768, 1.9227617326970576, 1.5307820803079508, 1.5307820803079508, 1.0706277982384627, 1.4626074506275697, 1.9227617326970576, 1.5307820803079508, 1.9227617326970576, 1.0024531685580815, 1.9227617326970576, 1.0706277982384627, 0.21849386377986768, 1.0706277982384627, 1.9227617326970576, 0.21849386377986768, 0.21849386377986768, 1.9227617326970576, 1.0706277982384627, 1.1388024279188438, 1.5307820803079508, 1.0706277982384627, 1.0706277982384627, 1.5307820803079508, 1.9227617326970576, 1.0706277982384627, 1.9227617326970576, 1.9227617326970576, 1.9227617326970576, 0.21849386377986768, 1.0706277982384627, 1.1388024279188438, 1.9227617326970576, 1.1388024279188438, 1.5307820803079508, 0.21849386377986768, 0.21849386377986768, 1.5307820803079508, 0.6104735161689746, 1.9227617326970576, 1.0706277982384627, 0.21849386377986768, 1.0706277982384627, 1.4626074506275697, 1.4626074506275697, 0.21849386377986768, 0.21849386377986768, 0.21849386377986768, 1.9227617326970576, 0.21849386377986768, 1.5307820803079508, 1.5307820803079508, 1.0706277982384627, 1.9227617326970576, 1.0706277982384627, 0.21849386377986768, 0.6104735161689746, 0.6104735161689746, 1.0706277982384627, 0.6786481458493558, 1.4626074506275697, 1.0706277982384627, 1.5307820803079508, 1.0706277982384627, 1.0024531685580815, 0.21849386377986768, 1.5307820803079508, 1.9227617326970576, 1.0706277982384627, 1.4626074506275697, 1.5307820803079508, 1.9227617326970576, 1.5307820803079508, 1.5307820803079508, 1.9227617326970576, 0.21849386377986768, 1.0706277982384627, 0.21849386377986768, 1.9227617326970576, 1.0706277982384627, 1.9227617326970576, 1.0706277982384627, 1.5307820803079508, 1.9227617326970576, 1.9227617326970576, 1.9227617326970576, 0.21849386377986768, 1.9227617326970576, 0.21849386377986768, 1.9227617326970576, 0.21849386377986768, 0.6104735161689746, 1.9227617326970576, 1.0706277982384627, 1.0706277982384627, 1.0706277982384627, 1.5307820803079508, 1.5307820803079508, 1.9227617326970576, 1.9227617326970576, 0.6786481458493558, 1.9227617326970576, 1.9227617326970576, 1.5307820803079508, 1.0706277982384627, 1.9227617326970576, 1.9227617326970576, 1.1388024279188438, 1.0706277982384627, 1.9227617326970576, 1.4626074506275697, 0.6104735161689746, 1.0706277982384627, 0.21849386377986768, 0.21849386377986768, 1.5307820803079508, 0.6786481458493558, 1.9227617326970576, 1.0706277982384627, 1.4626074506275697, 1.9227617326970576, 1.1388024279188438, 1.9227617326970576, 1.0706277982384627, 1.9227617326970576, 0.21849386377986768, 1.1388024279188438, 0.21849386377986768, 0.6104735161689746, 1.5307820803079508, 1.9227617326970576, 1.5307820803079508, 1.0706277982384627, 1.9227617326970576, 0.21849386377986768, 0.21849386377986768, 1.0024531685580815, 1.9227617326970576, 1.0706277982384627, 1.9227617326970576, 1.0706277982384627, 1.9227617326970576, 0.6104735161689746, 1.4626074506275697, 1.9227617326970576, 0.21849386377986768, 1.0706277982384627, 1.0706277982384627, 1.9227617326970576, 1.9227617326970576, 1.0706277982384627, 1.9227617326970576, 0.21849386377986768, 1.0706277982384627, 1.9227617326970576, 0.6786481458493558, 1.0706277982384627, 0.21849386377986768, 0.21849386377986768, 1.9227617326970576, 1.9227617326970576, 0.21849386377986768, 0.21849386377986768, 1.0706277982384627, 0.6786481458493558, 1.0706277982384627, 1.5307820803079508, 1.4626074506275697, 1.1388024279188438, 1.1388024279188438, 0.21849386377986768, 0.6786481458493558, 1.5307820803079508, 1.0706277982384627, 0.21849386377986768, 1.4626074506275697, 0.21849386377986768, 1.0706277982384627, 0.6104735161689746, 1.0706277982384627, 1.9227617326970576, 1.0706277982384627, 1.9227617326970576, 1.0706277982384627, 1.0024531685580815, 1.0706277982384627, 0.6104735161689746, 1.5307820803079508, 0.21849386377986768, 1.0706277982384627, 0.6786481458493558, 1.9227617326970576, 0.21849386377986768, 1.4626074506275697, 0.6104735161689746, 0.6104735161689746, 1.5307820803079508, 1.9227617326970576, 1.1388024279188438, 0.21849386377986768, 1.9227617326970576, 0.6786481458493558, 1.0706277982384627, 0.21849386377986768]\n"
     ]
    }
   ],
   "source": [
    "from sklearn.metrics import mean_squared_error\n",
    "rating_predictions = linearModel.predict(dataset_num_tr)\n",
    "mse = mean_squared_error(labels,rating_predictions)\n",
    "rmse = np.sqrt(mse)\n",
    "print(list(rating_predictions))"
   ]
  },
  {
   "cell_type": "code",
   "execution_count": 31,
   "metadata": {},
   "outputs": [
    {
     "data": {
      "text/plain": [
       "0.2298770353073072"
      ]
     },
     "execution_count": 31,
     "metadata": {},
     "output_type": "execute_result"
    }
   ],
   "source": [
    "mse"
   ]
  },
  {
   "cell_type": "code",
   "execution_count": 32,
   "metadata": {},
   "outputs": [
    {
     "data": {
      "text/plain": [
       "0.47945493563765423"
      ]
     },
     "execution_count": 32,
     "metadata": {},
     "output_type": "execute_result"
    }
   ],
   "source": [
    "rmse"
   ]
  },
  {
   "cell_type": "code",
   "execution_count": 33,
   "metadata": {},
   "outputs": [],
   "source": [
    "X_test = test_set.drop(\"rating\",axis = 1)\n",
    "Y_test = test_set[\"rating\"].copy()\n",
    "X_test_prepared = my_pipeline.transform(X_test)\n",
    "final_predictions = linearModel.predict(X_test_prepared)\n",
    "final_mse = mean_squared_error(Y_test,final_predictions)\n",
    "final_rmse = np.sqrt(final_mse)"
   ]
  },
  {
   "cell_type": "code",
   "execution_count": 34,
   "metadata": {},
   "outputs": [
    {
     "data": {
      "text/plain": [
       "0.5240233101964944"
      ]
     },
     "execution_count": 34,
     "metadata": {},
     "output_type": "execute_result"
    }
   ],
   "source": [
    "final_rmse"
   ]
  },
  {
   "cell_type": "code",
   "execution_count": 35,
   "metadata": {},
   "outputs": [
    {
     "data": {
      "text/plain": [
       "array([0.99311102, 1.14324695])"
      ]
     },
     "execution_count": 35,
     "metadata": {},
     "output_type": "execute_result"
    }
   ],
   "source": [
    "dataset_num_tr[0]"
   ]
  },
  {
   "cell_type": "code",
   "execution_count": 36,
   "metadata": {},
   "outputs": [],
   "source": [
    "pre_data = my_pipeline.transform([[5,5]])"
   ]
  },
  {
   "cell_type": "code",
   "execution_count": 37,
   "metadata": {},
   "outputs": [
    {
     "data": {
      "text/plain": [
       "4.157055538624201"
      ]
     },
     "execution_count": 37,
     "metadata": {},
     "output_type": "execute_result"
    }
   ],
   "source": [
    "pre_data = my_pipeline.transform([[4.3,5]])\n",
    "linearModel.predict(pre_data)[0]"
   ]
  },
  {
   "cell_type": "code",
   "execution_count": 38,
   "metadata": {},
   "outputs": [],
   "source": [
    "import joblib"
   ]
  },
  {
   "cell_type": "code",
   "execution_count": 39,
   "metadata": {},
   "outputs": [
    {
     "data": {
      "text/plain": [
       "['model']"
      ]
     },
     "execution_count": 39,
     "metadata": {},
     "output_type": "execute_result"
    }
   ],
   "source": [
    "joblib.dump(my_pipeline,'pipeline')\n",
    "joblib.dump(linearModel,'model')"
   ]
  },
  {
   "cell_type": "code",
   "execution_count": null,
   "metadata": {},
   "outputs": [],
   "source": []
  }
 ],
 "metadata": {
  "kernelspec": {
   "display_name": "Python 3",
   "language": "python",
   "name": "python3"
  },
  "language_info": {
   "codemirror_mode": {
    "name": "ipython",
    "version": 3
   },
   "file_extension": ".py",
   "mimetype": "text/x-python",
   "name": "python",
   "nbconvert_exporter": "python",
   "pygments_lexer": "ipython3",
   "version": "3.8.5"
  }
 },
 "nbformat": 4,
 "nbformat_minor": 5
}
